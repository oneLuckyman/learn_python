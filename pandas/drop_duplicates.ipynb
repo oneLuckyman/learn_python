{
 "cells": [
  {
   "cell_type": "markdown",
   "id": "going-object",
   "metadata": {},
   "source": [
    "# pandas.DataFrame.drop_duplicates\n",
    "    来自官方文档"
   ]
  },
  {
   "cell_type": "markdown",
   "id": "intended-interaction",
   "metadata": {},
   "source": [
    "## pandas.DataFrame.drop_duplicates 可以用于去除 DataFrame 中的重复数据"
   ]
  },
  {
   "cell_type": "markdown",
   "id": "regulation-policy",
   "metadata": {},
   "source": [
    "### DataFrame.drop_duplicates(subset=None, keep='first', inplace=False, ignore_index=False)\n",
    "\n",
    "subset：指定某些特定的列，根据这些列是否重复输出结果，默认就是所有列\n",
    "\n",
    "keep：保留哪一行的数据\n",
    "\n",
    "    如果是 first 就会保留首次出现的行\n",
    "    \n",
    "    如果是 last 就会保留最后出现的行\n",
    "    \n",
    "    如果是 False 就不会保留任何出现重复的行\n",
    "    \n",
    "inplace：默认为 False，如果为 True, 会直接将返回的副本替换原有的变量\n",
    "\n",
    "ignore_index：默认为 False，如果为 True, 会重置 Index"
   ]
  },
  {
   "cell_type": "code",
   "execution_count": 1,
   "id": "brown-steam",
   "metadata": {
    "ExecuteTime": {
     "end_time": "2022-06-02T12:29:20.341946Z",
     "start_time": "2022-06-02T12:29:19.984759Z"
    }
   },
   "outputs": [],
   "source": [
    "import pandas as pd "
   ]
  },
  {
   "cell_type": "code",
   "execution_count": 2,
   "id": "single-rhythm",
   "metadata": {
    "ExecuteTime": {
     "end_time": "2022-06-02T12:29:20.357484Z",
     "start_time": "2022-06-02T12:29:20.342879Z"
    }
   },
   "outputs": [],
   "source": [
    "df = pd.DataFrame({\n",
    "    'brand': ['Yum Yum', 'Yum Yum', 'Indomie', 'Indomie', 'Indomie'],\n",
    "    'style': ['cup', 'cup', 'cup', 'pack', 'pack'],\n",
    "    'rating': [4, 4, 3.5, 15, 5]\n",
    "})"
   ]
  },
  {
   "cell_type": "code",
   "execution_count": 3,
   "id": "sunset-framing",
   "metadata": {
    "ExecuteTime": {
     "end_time": "2022-06-02T12:29:20.388812Z",
     "start_time": "2022-06-02T12:29:20.360283Z"
    }
   },
   "outputs": [
    {
     "data": {
      "text/html": [
       "<div>\n",
       "<style scoped>\n",
       "    .dataframe tbody tr th:only-of-type {\n",
       "        vertical-align: middle;\n",
       "    }\n",
       "\n",
       "    .dataframe tbody tr th {\n",
       "        vertical-align: top;\n",
       "    }\n",
       "\n",
       "    .dataframe thead th {\n",
       "        text-align: right;\n",
       "    }\n",
       "</style>\n",
       "<table border=\"1\" class=\"dataframe\">\n",
       "  <thead>\n",
       "    <tr style=\"text-align: right;\">\n",
       "      <th></th>\n",
       "      <th>brand</th>\n",
       "      <th>style</th>\n",
       "      <th>rating</th>\n",
       "    </tr>\n",
       "  </thead>\n",
       "  <tbody>\n",
       "    <tr>\n",
       "      <th>0</th>\n",
       "      <td>Yum Yum</td>\n",
       "      <td>cup</td>\n",
       "      <td>4.0</td>\n",
       "    </tr>\n",
       "    <tr>\n",
       "      <th>1</th>\n",
       "      <td>Yum Yum</td>\n",
       "      <td>cup</td>\n",
       "      <td>4.0</td>\n",
       "    </tr>\n",
       "    <tr>\n",
       "      <th>2</th>\n",
       "      <td>Indomie</td>\n",
       "      <td>cup</td>\n",
       "      <td>3.5</td>\n",
       "    </tr>\n",
       "    <tr>\n",
       "      <th>3</th>\n",
       "      <td>Indomie</td>\n",
       "      <td>pack</td>\n",
       "      <td>15.0</td>\n",
       "    </tr>\n",
       "    <tr>\n",
       "      <th>4</th>\n",
       "      <td>Indomie</td>\n",
       "      <td>pack</td>\n",
       "      <td>5.0</td>\n",
       "    </tr>\n",
       "  </tbody>\n",
       "</table>\n",
       "</div>"
      ],
      "text/plain": [
       "     brand style  rating\n",
       "0  Yum Yum   cup     4.0\n",
       "1  Yum Yum   cup     4.0\n",
       "2  Indomie   cup     3.5\n",
       "3  Indomie  pack    15.0\n",
       "4  Indomie  pack     5.0"
      ]
     },
     "execution_count": 3,
     "metadata": {},
     "output_type": "execute_result"
    }
   ],
   "source": [
    "df "
   ]
  },
  {
   "cell_type": "markdown",
   "id": "recovered-cream",
   "metadata": {},
   "source": [
    "## 不添加任何参数时，根据所有列删除重复行"
   ]
  },
  {
   "cell_type": "code",
   "execution_count": 4,
   "id": "ignored-cookie",
   "metadata": {
    "ExecuteTime": {
     "end_time": "2022-06-02T12:29:20.419578Z",
     "start_time": "2022-06-02T12:29:20.397680Z"
    }
   },
   "outputs": [
    {
     "data": {
      "text/html": [
       "<div>\n",
       "<style scoped>\n",
       "    .dataframe tbody tr th:only-of-type {\n",
       "        vertical-align: middle;\n",
       "    }\n",
       "\n",
       "    .dataframe tbody tr th {\n",
       "        vertical-align: top;\n",
       "    }\n",
       "\n",
       "    .dataframe thead th {\n",
       "        text-align: right;\n",
       "    }\n",
       "</style>\n",
       "<table border=\"1\" class=\"dataframe\">\n",
       "  <thead>\n",
       "    <tr style=\"text-align: right;\">\n",
       "      <th></th>\n",
       "      <th>brand</th>\n",
       "      <th>style</th>\n",
       "      <th>rating</th>\n",
       "    </tr>\n",
       "  </thead>\n",
       "  <tbody>\n",
       "    <tr>\n",
       "      <th>0</th>\n",
       "      <td>Yum Yum</td>\n",
       "      <td>cup</td>\n",
       "      <td>4.0</td>\n",
       "    </tr>\n",
       "    <tr>\n",
       "      <th>2</th>\n",
       "      <td>Indomie</td>\n",
       "      <td>cup</td>\n",
       "      <td>3.5</td>\n",
       "    </tr>\n",
       "    <tr>\n",
       "      <th>3</th>\n",
       "      <td>Indomie</td>\n",
       "      <td>pack</td>\n",
       "      <td>15.0</td>\n",
       "    </tr>\n",
       "    <tr>\n",
       "      <th>4</th>\n",
       "      <td>Indomie</td>\n",
       "      <td>pack</td>\n",
       "      <td>5.0</td>\n",
       "    </tr>\n",
       "  </tbody>\n",
       "</table>\n",
       "</div>"
      ],
      "text/plain": [
       "     brand style  rating\n",
       "0  Yum Yum   cup     4.0\n",
       "2  Indomie   cup     3.5\n",
       "3  Indomie  pack    15.0\n",
       "4  Indomie  pack     5.0"
      ]
     },
     "execution_count": 4,
     "metadata": {},
     "output_type": "execute_result"
    }
   ],
   "source": [
    "df.drop_duplicates()"
   ]
  },
  {
   "cell_type": "markdown",
   "id": "present-potential",
   "metadata": {},
   "source": [
    "## 按照某一特定列删除重复行"
   ]
  },
  {
   "cell_type": "code",
   "execution_count": 5,
   "id": "deluxe-sweden",
   "metadata": {
    "ExecuteTime": {
     "end_time": "2022-06-02T12:29:20.434772Z",
     "start_time": "2022-06-02T12:29:20.420573Z"
    }
   },
   "outputs": [
    {
     "data": {
      "text/html": [
       "<div>\n",
       "<style scoped>\n",
       "    .dataframe tbody tr th:only-of-type {\n",
       "        vertical-align: middle;\n",
       "    }\n",
       "\n",
       "    .dataframe tbody tr th {\n",
       "        vertical-align: top;\n",
       "    }\n",
       "\n",
       "    .dataframe thead th {\n",
       "        text-align: right;\n",
       "    }\n",
       "</style>\n",
       "<table border=\"1\" class=\"dataframe\">\n",
       "  <thead>\n",
       "    <tr style=\"text-align: right;\">\n",
       "      <th></th>\n",
       "      <th>brand</th>\n",
       "      <th>style</th>\n",
       "      <th>rating</th>\n",
       "    </tr>\n",
       "  </thead>\n",
       "  <tbody>\n",
       "    <tr>\n",
       "      <th>0</th>\n",
       "      <td>Yum Yum</td>\n",
       "      <td>cup</td>\n",
       "      <td>4.0</td>\n",
       "    </tr>\n",
       "    <tr>\n",
       "      <th>2</th>\n",
       "      <td>Indomie</td>\n",
       "      <td>cup</td>\n",
       "      <td>3.5</td>\n",
       "    </tr>\n",
       "  </tbody>\n",
       "</table>\n",
       "</div>"
      ],
      "text/plain": [
       "     brand style  rating\n",
       "0  Yum Yum   cup     4.0\n",
       "2  Indomie   cup     3.5"
      ]
     },
     "execution_count": 5,
     "metadata": {},
     "output_type": "execute_result"
    }
   ],
   "source": [
    "df.drop_duplicates(subset=['brand'])"
   ]
  },
  {
   "cell_type": "markdown",
   "id": "plain-sarah",
   "metadata": {},
   "source": [
    "## 删除特定列重复内容，并且保留最后一次出现的那一行"
   ]
  },
  {
   "cell_type": "code",
   "execution_count": 6,
   "id": "banner-seating",
   "metadata": {
    "ExecuteTime": {
     "end_time": "2022-06-02T12:29:20.450106Z",
     "start_time": "2022-06-02T12:29:20.436531Z"
    }
   },
   "outputs": [
    {
     "data": {
      "text/html": [
       "<div>\n",
       "<style scoped>\n",
       "    .dataframe tbody tr th:only-of-type {\n",
       "        vertical-align: middle;\n",
       "    }\n",
       "\n",
       "    .dataframe tbody tr th {\n",
       "        vertical-align: top;\n",
       "    }\n",
       "\n",
       "    .dataframe thead th {\n",
       "        text-align: right;\n",
       "    }\n",
       "</style>\n",
       "<table border=\"1\" class=\"dataframe\">\n",
       "  <thead>\n",
       "    <tr style=\"text-align: right;\">\n",
       "      <th></th>\n",
       "      <th>brand</th>\n",
       "      <th>style</th>\n",
       "      <th>rating</th>\n",
       "    </tr>\n",
       "  </thead>\n",
       "  <tbody>\n",
       "    <tr>\n",
       "      <th>1</th>\n",
       "      <td>Yum Yum</td>\n",
       "      <td>cup</td>\n",
       "      <td>4.0</td>\n",
       "    </tr>\n",
       "    <tr>\n",
       "      <th>2</th>\n",
       "      <td>Indomie</td>\n",
       "      <td>cup</td>\n",
       "      <td>3.5</td>\n",
       "    </tr>\n",
       "    <tr>\n",
       "      <th>4</th>\n",
       "      <td>Indomie</td>\n",
       "      <td>pack</td>\n",
       "      <td>5.0</td>\n",
       "    </tr>\n",
       "  </tbody>\n",
       "</table>\n",
       "</div>"
      ],
      "text/plain": [
       "     brand style  rating\n",
       "1  Yum Yum   cup     4.0\n",
       "2  Indomie   cup     3.5\n",
       "4  Indomie  pack     5.0"
      ]
     },
     "execution_count": 6,
     "metadata": {},
     "output_type": "execute_result"
    }
   ],
   "source": [
    "df.drop_duplicates(subset=['brand', 'style'], keep='last')"
   ]
  },
  {
   "cell_type": "code",
   "execution_count": null,
   "id": "acceptable-victor",
   "metadata": {},
   "outputs": [],
   "source": []
  },
  {
   "cell_type": "code",
   "execution_count": null,
   "id": "normal-millennium",
   "metadata": {},
   "outputs": [],
   "source": []
  }
 ],
 "metadata": {
  "kernelspec": {
   "display_name": "Python 3",
   "language": "python",
   "name": "python3"
  },
  "language_info": {
   "codemirror_mode": {
    "name": "ipython",
    "version": 3
   },
   "file_extension": ".py",
   "mimetype": "text/x-python",
   "name": "python",
   "nbconvert_exporter": "python",
   "pygments_lexer": "ipython3",
   "version": "3.8.8"
  },
  "latex_envs": {
   "LaTeX_envs_menu_present": true,
   "autoclose": false,
   "autocomplete": true,
   "bibliofile": "biblio.bib",
   "cite_by": "apalike",
   "current_citInitial": 1,
   "eqLabelWithNumbers": true,
   "eqNumInitial": 1,
   "hotkeys": {
    "equation": "Ctrl-E",
    "itemize": "Ctrl-I"
   },
   "labels_anchors": false,
   "latex_user_defs": false,
   "report_style_numbering": false,
   "user_envs_cfg": false
  },
  "toc": {
   "base_numbering": 1,
   "nav_menu": {},
   "number_sections": true,
   "sideBar": true,
   "skip_h1_title": false,
   "title_cell": "Table of Contents",
   "title_sidebar": "Contents",
   "toc_cell": false,
   "toc_position": {},
   "toc_section_display": true,
   "toc_window_display": false
  },
  "varInspector": {
   "cols": {
    "lenName": 16,
    "lenType": 16,
    "lenVar": 40
   },
   "kernels_config": {
    "python": {
     "delete_cmd_postfix": "",
     "delete_cmd_prefix": "del ",
     "library": "var_list.py",
     "varRefreshCmd": "print(var_dic_list())"
    },
    "r": {
     "delete_cmd_postfix": ") ",
     "delete_cmd_prefix": "rm(",
     "library": "var_list.r",
     "varRefreshCmd": "cat(var_dic_list()) "
    }
   },
   "types_to_exclude": [
    "module",
    "function",
    "builtin_function_or_method",
    "instance",
    "_Feature"
   ],
   "window_display": false
  }
 },
 "nbformat": 4,
 "nbformat_minor": 5
}
