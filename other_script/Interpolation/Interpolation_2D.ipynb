{
 "cells": [
  {
   "cell_type": "code",
   "execution_count": 10,
   "id": "brilliant-leadership",
   "metadata": {
    "ExecuteTime": {
     "end_time": "2022-05-19T09:19:02.621019Z",
     "start_time": "2022-05-19T09:19:01.854304Z"
    }
   },
   "outputs": [],
   "source": [
    "import pandas as pd \n",
    "from scipy import  interpolate"
   ]
  },
  {
   "cell_type": "code",
   "execution_count": 3,
   "id": "jewish-genetics",
   "metadata": {
    "ExecuteTime": {
     "end_time": "2022-05-19T09:16:56.775743Z",
     "start_time": "2022-05-19T09:16:56.741744Z"
    }
   },
   "outputs": [],
   "source": [
    "DF = pd.read_csv('./HEPData-ins1755298-v4-Upper_limits_1Lbb.csv')"
   ]
  },
  {
   "cell_type": "code",
   "execution_count": 8,
   "id": "fluid-somewhere",
   "metadata": {
    "ExecuteTime": {
     "end_time": "2022-05-19T09:18:29.650135Z",
     "start_time": "2022-05-19T09:18:29.627145Z"
    }
   },
   "outputs": [
    {
     "data": {
      "text/html": [
       "<div>\n",
       "<style scoped>\n",
       "    .dataframe tbody tr th:only-of-type {\n",
       "        vertical-align: middle;\n",
       "    }\n",
       "\n",
       "    .dataframe tbody tr th {\n",
       "        vertical-align: top;\n",
       "    }\n",
       "\n",
       "    .dataframe thead th {\n",
       "        text-align: right;\n",
       "    }\n",
       "</style>\n",
       "<table border=\"1\" class=\"dataframe\">\n",
       "  <thead>\n",
       "    <tr style=\"text-align: right;\">\n",
       "      <th></th>\n",
       "      <th>M(CHARGINO1/NEUTRALINO2) [GEV]</th>\n",
       "      <th>M(NEUTRALINO1) [GEV]</th>\n",
       "      <th>UL [pb]</th>\n",
       "    </tr>\n",
       "  </thead>\n",
       "  <tbody>\n",
       "    <tr>\n",
       "      <th>0</th>\n",
       "      <td>1000</td>\n",
       "      <td>0</td>\n",
       "      <td>0.0050</td>\n",
       "    </tr>\n",
       "    <tr>\n",
       "      <th>1</th>\n",
       "      <td>1000</td>\n",
       "      <td>100</td>\n",
       "      <td>0.0045</td>\n",
       "    </tr>\n",
       "    <tr>\n",
       "      <th>2</th>\n",
       "      <td>1000</td>\n",
       "      <td>150</td>\n",
       "      <td>0.0048</td>\n",
       "    </tr>\n",
       "    <tr>\n",
       "      <th>3</th>\n",
       "      <td>1000</td>\n",
       "      <td>200</td>\n",
       "      <td>0.0054</td>\n",
       "    </tr>\n",
       "    <tr>\n",
       "      <th>4</th>\n",
       "      <td>1000</td>\n",
       "      <td>250</td>\n",
       "      <td>0.0056</td>\n",
       "    </tr>\n",
       "  </tbody>\n",
       "</table>\n",
       "</div>"
      ],
      "text/plain": [
       "   M(CHARGINO1/NEUTRALINO2) [GEV]  M(NEUTRALINO1) [GEV]  UL [pb]\n",
       "0                            1000                     0   0.0050\n",
       "1                            1000                   100   0.0045\n",
       "2                            1000                   150   0.0048\n",
       "3                            1000                   200   0.0054\n",
       "4                            1000                   250   0.0056"
      ]
     },
     "execution_count": 8,
     "metadata": {},
     "output_type": "execute_result"
    }
   ],
   "source": [
    "DF.head()"
   ]
  },
  {
   "cell_type": "code",
   "execution_count": 11,
   "id": "plastic-domain",
   "metadata": {
    "ExecuteTime": {
     "end_time": "2022-05-19T09:19:08.463960Z",
     "start_time": "2022-05-19T09:19:08.270646Z"
    }
   },
   "outputs": [],
   "source": [
    "func = interpolate.Rbf(DF.iloc[:,0],DF.iloc[:,1],DF.iloc[:,2],function='multiquadric')"
   ]
  },
  {
   "cell_type": "code",
   "execution_count": 14,
   "id": "foreign-motel",
   "metadata": {
    "ExecuteTime": {
     "end_time": "2022-05-19T09:21:37.607387Z",
     "start_time": "2022-05-19T09:21:37.600407Z"
    }
   },
   "outputs": [
    {
     "data": {
      "text/plain": [
       "array(0.02133871)"
      ]
     },
     "execution_count": 14,
     "metadata": {},
     "output_type": "execute_result"
    }
   ],
   "source": [
    "pb_4774 = func(486.091706, 59.8017807)\n",
    "pb_4774"
   ]
  },
  {
   "cell_type": "code",
   "execution_count": 16,
   "id": "adverse-candidate",
   "metadata": {
    "ExecuteTime": {
     "end_time": "2022-05-19T09:26:43.321103Z",
     "start_time": "2022-05-19T09:26:43.303092Z"
    }
   },
   "outputs": [
    {
     "data": {
      "text/plain": [
       "array(0.02637379)"
      ]
     },
     "execution_count": 16,
     "metadata": {},
     "output_type": "execute_result"
    }
   ],
   "source": [
    "pb_5321 = func(454.888796, 60.7466735)\n",
    "pb_5321"
   ]
  },
  {
   "cell_type": "code",
   "execution_count": null,
   "id": "found-drawing",
   "metadata": {},
   "outputs": [],
   "source": []
  }
 ],
 "metadata": {
  "kernelspec": {
   "display_name": "Python 3",
   "language": "python",
   "name": "python3"
  },
  "language_info": {
   "codemirror_mode": {
    "name": "ipython",
    "version": 3
   },
   "file_extension": ".py",
   "mimetype": "text/x-python",
   "name": "python",
   "nbconvert_exporter": "python",
   "pygments_lexer": "ipython3",
   "version": "3.8.8"
  },
  "latex_envs": {
   "LaTeX_envs_menu_present": true,
   "autoclose": false,
   "autocomplete": true,
   "bibliofile": "biblio.bib",
   "cite_by": "apalike",
   "current_citInitial": 1,
   "eqLabelWithNumbers": true,
   "eqNumInitial": 1,
   "hotkeys": {
    "equation": "Ctrl-E",
    "itemize": "Ctrl-I"
   },
   "labels_anchors": false,
   "latex_user_defs": false,
   "report_style_numbering": false,
   "user_envs_cfg": false
  },
  "toc": {
   "base_numbering": 1,
   "nav_menu": {},
   "number_sections": true,
   "sideBar": true,
   "skip_h1_title": false,
   "title_cell": "Table of Contents",
   "title_sidebar": "Contents",
   "toc_cell": false,
   "toc_position": {},
   "toc_section_display": true,
   "toc_window_display": false
  },
  "varInspector": {
   "cols": {
    "lenName": 16,
    "lenType": 16,
    "lenVar": 40
   },
   "kernels_config": {
    "python": {
     "delete_cmd_postfix": "",
     "delete_cmd_prefix": "del ",
     "library": "var_list.py",
     "varRefreshCmd": "print(var_dic_list())"
    },
    "r": {
     "delete_cmd_postfix": ") ",
     "delete_cmd_prefix": "rm(",
     "library": "var_list.r",
     "varRefreshCmd": "cat(var_dic_list()) "
    }
   },
   "types_to_exclude": [
    "module",
    "function",
    "builtin_function_or_method",
    "instance",
    "_Feature"
   ],
   "window_display": false
  }
 },
 "nbformat": 4,
 "nbformat_minor": 5
}
